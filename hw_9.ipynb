{
 "cells": [
  {
   "cell_type": "code",
   "execution_count": 5,
   "metadata": {},
   "outputs": [
    {
     "name": "stdout",
     "output_type": "stream",
     "text": [
      "Surbhi Singh\r\n"
     ]
    }
   ],
   "source": [
    "#1. Print your name on terminal.\n",
    "!echo 'Surbhi Singh'"
   ]
  },
  {
   "cell_type": "code",
   "execution_count": 3,
   "metadata": {},
   "outputs": [
    {
     "name": "stdout",
     "output_type": "stream",
     "text": [
      "/Users/surbhi/Documents/DS_summer/CS\r\n"
     ]
    }
   ],
   "source": [
    "#2. print your working directory.\n",
    "!pwd"
   ]
  },
  {
   "cell_type": "code",
   "execution_count": 4,
   "metadata": {},
   "outputs": [],
   "source": [
    "# 3. Set your working dir to your home dir with three different commands.\n",
    "!cd\n",
    "!cd ~\n",
    "!cd ../../../\n"
   ]
  },
  {
   "cell_type": "code",
   "execution_count": 9,
   "metadata": {},
   "outputs": [],
   "source": [
    "#4. change your directory to the directory of your Jupyter notebook.\n",
    "!cd /Users/surbhi/Documents/DS_summer/CS"
   ]
  },
  {
   "cell_type": "code",
   "execution_count": 8,
   "metadata": {},
   "outputs": [],
   "source": [
    "#5. Use `touch` to make a txt file and write `hello world` in that file using output redirection: `>`. Append, your name by `>>`.\n",
    "!touch test.txt\n",
    "! echo \"hello world\" > test.txt"
   ]
  },
  {
   "cell_type": "code",
   "execution_count": 10,
   "metadata": {},
   "outputs": [
    {
     "name": "stdout",
     "output_type": "stream",
     "text": [
      "hello world\r\n"
     ]
    }
   ],
   "source": [
    "#6. show the contents of the file on the screen (use the address of the file  \n",
    "!cat test.txt"
   ]
  },
  {
   "cell_type": "code",
   "execution_count": 11,
   "metadata": {},
   "outputs": [
    {
     "name": "stdout",
     "output_type": "stream",
     "text": [
      "wc: cat: open: No such file or directory\r\n",
      "       1       2      12 test.txt\r\n",
      "       1       2      12 total\r\n"
     ]
    }
   ],
   "source": [
    "#7. apply commands `wc` and `cat` on your txt file and explain what they do (if your txt file is big use `less` instead of `cat`).\n",
    "!wc cat test.txt\n",
    "#opens the text file and counts number of words (characters)\n"
   ]
  },
  {
   "cell_type": "code",
   "execution_count": 6,
   "metadata": {},
   "outputs": [
    {
     "name": "stdout",
     "output_type": "stream",
     "text": [
      "  % Total    % Received % Xferd  Average Speed   Time    Time     Time  Current\n",
      "                                 Dload  Upload   Total   Spent    Left  Speed\n",
      "100   98k  100   98k    0     0   572k      0 --:--:-- --:--:-- --:--:--  575k\n",
      "mkdir: covid: File exists\n"
     ]
    }
   ],
   "source": [
    "#8. use `curl` to download a dataset from the web. make a new folder inside your current directory and cd in that directory and move the downloaded file to this new directory.\n",
    "!curl https://covid.ourworldindata.org/data/ecdc/new_cases.csv >covid.csv\n",
    "!mkdir covid\n",
    "!mv covid.csv covid/\n"
   ]
  },
  {
   "cell_type": "code",
   "execution_count": 8,
   "metadata": {},
   "outputs": [
    {
     "name": "stdout",
     "output_type": "stream",
     "text": [
      "date,World,Afghanistan,Albania,Algeria,Andorra,Angola,Anguilla,Antigua and Barbuda,Argentina,Armenia,Aruba,Australia,Austria,Azerbaijan,Bahamas,Bahrain,Bangladesh,Barbados,Belarus,Belgium,Belize,Benin,Bermuda,Bhutan,Bolivia,Bonaire Sint Eustatius and Saba,Bosnia and Herzegovina,Botswana,Brazil,British Virgin Islands,Brunei,Bulgaria,Burkina Faso,Burundi,Cambodia,Cameroon,Canada,Cape Verde,Cayman Islands,Central African Republic,Chad,Chile,China,Colombia,Comoros,Congo,Costa Rica,Cote d'Ivoire,Croatia,Cuba,Curacao,Cyprus,Czech Republic,Democratic Republic of Congo,Denmark,Djibouti,Dominica,Dominican Republic,Ecuador,Egypt,El Salvador,Equatorial Guinea,Eritrea,Estonia,Ethiopia,Faeroe Islands,Falkland Islands,Fiji,Finland,France,French Polynesia,Gabon,Gambia,Georgia,Germany,Ghana,Gibraltar,Greece,Greenland,Grenada,Guam,Guatemala,Guernsey,Guinea,Guinea-Bissau,Guyana,Haiti,Honduras,Hungary,Iceland,India,Indonesia,International,Iran,Iraq,Ireland,Isle of Man,Israel,Italy,Jamaica,Japan,Jersey,Jordan,Kazakhstan,Kenya,Kosovo,Kuwait,Kyrgyzstan,Laos,Latvia,Lebanon,Lesotho,Liberia,Libya,Liechtenstein,Lithuania,Luxembourg,Macedonia,Madagascar,Malawi,Malaysia,Maldives,Mali,Malta,Mauritania,Mauritius,Mexico,Moldova,Monaco,Mongolia,Montenegro,Montserrat,Morocco,Mozambique,Myanmar,Namibia,Nepal,Netherlands,New Caledonia,New Zealand,Nicaragua,Niger,Nigeria,Northern Mariana Islands,Norway,Oman,Pakistan,Palestine,Panama,Papua New Guinea,Paraguay,Peru,Philippines,Poland,Portugal,Puerto Rico,Qatar,Romania,Russia,Rwanda,Saint Kitts and Nevis,Saint Lucia,Saint Vincent and the Grenadines,San Marino,Sao Tome and Principe,Saudi Arabia,Senegal,Serbia,Seychelles,Sierra Leone,Singapore,Sint Maarten (Dutch part),Slovakia,Slovenia,Somalia,South Africa,South Korea,South Sudan,Spain,Sri Lanka,Sudan,Suriname,Swaziland,Sweden,Switzerland,Syria,Taiwan,Tajikistan,Tanzania,Thailand,Timor,Togo,Trinidad and Tobago,Tunisia,Turkey,Turks and Caicos Islands,Uganda,Ukraine,United Arab Emirates,United Kingdom,United States,United States Virgin Islands,Uruguay,Uzbekistan,Vatican,Venezuela,Vietnam,Western Sahara,Yemen,Zambia,Zimbabwe\r\n",
      "2019-12-31,27,0,,0,,,,,,0,,0,0,0,,0,,,0,0,,,,,,,,,0,,,,,,0,,0,,,,,,27,,,,,,0,,,,0,,0,,,0,0,0,,,,0,,,,,0,0,,,,0,0,,,0,,,,,,,,,,,,0,0,0,0,0,0,0,,0,0,,0,,,,,,0,,,,0,,,,,0,0,0,,,0,,,,,,0,,0,,,,,,,,0,0,,0,,,0,,0,0,0,,,,,,0,,,,0,0,0,,,,,0,,,,,,,0,,,,,,0,,0,0,,,,0,0,,0,,,0,,,,,,,,,0,0,0,,,,,,0,,,,\r\n",
      "2020-01-01,0,0,,0,,,,,,0,,0,0,0,,0,,,0,0,,,,,,,,,0,,,,,,0,,0,,,,,,0,,,,,,0,,,,0,,0,,,0,0,0,,,,0,,,,,0,0,,,,0,0,,,0,,,,,,,,,,,,0,0,0,0,0,0,0,,0,0,,0,,,,,,0,,,,0,,,,,0,0,0,,,0,,,,,,0,,0,,,,,,,,0,0,,0,,,0,,0,0,0,,,,,,0,,,,0,0,0,,,,,0,,,,,,,0,,,,,,0,,0,0,,,,0,0,,0,,,0,,,,,,,,,0,0,0,,,,,,0,,,,\r\n",
      "2020-01-02,0,0,,0,,,,,,0,,0,0,0,,0,,,0,0,,,,,,,,,0,,,,,,0,,0,,,,,,0,,,,,,0,,,,0,,0,,,0,0,0,,,,0,,,,,0,0,,,,0,0,,,0,,,,,,,,,,,,0,0,0,0,0,0,0,,0,0,,0,,,,,,0,,,,0,,,,,0,0,0,,,0,,,,,,0,,0,,,,,,,,0,0,,0,,,0,,0,0,0,,,,,,0,,,,0,0,0,,,,,0,,,,,,,0,,,,,,0,,0,0,,,,0,0,,0,,,0,,,,,,,,,0,0,0,,,,,,0,,,,\r\n",
      "2020-01-03,17,0,,0,,,,,,0,,0,0,0,,0,,,0,0,,,,,,,,,0,,,,,,0,,0,,,,,,17,,,,,,0,,,,0,,0,,,0,0,0,,,,0,,,,,0,0,,,,0,0,,,0,,,,,,,,,,,,0,0,0,0,0,0,0,,0,0,,0,,,,,,0,,,,0,,,,,0,0,0,,,0,,,,,,0,,0,,,,,,,,0,0,,0,,,0,,0,0,0,,,,,,0,,,,0,0,0,,,,,0,,,,,,,0,,,,,,0,,0,0,,,,0,0,,0,,,0,,,,,,,,,0,0,0,,,,,,0,,,,\r\n"
     ]
    }
   ],
   "source": [
    "#9.  Apply `head -n 5 {}` to a print the first 5 lines of your file (`tail` is similar).\n",
    "!head -n 5 covid/covid.csv "
   ]
  },
  {
   "cell_type": "code",
   "execution_count": null,
   "metadata": {},
   "outputs": [],
   "source": [
    "#10.  Since you know how to use git; write a bash command where you commit the changes in your code with a comment and then push it to a remote Github repository.\n",
    "!git pull\n",
    "!git commit -m \"unix exercise\"\n",
    "!git push"
   ]
  }
 ],
 "metadata": {
  "kernelspec": {
   "display_name": "Python 3",
   "language": "python",
   "name": "python3"
  },
  "language_info": {
   "codemirror_mode": {
    "name": "ipython",
    "version": 3
   },
   "file_extension": ".py",
   "mimetype": "text/x-python",
   "name": "python",
   "nbconvert_exporter": "python",
   "pygments_lexer": "ipython3",
   "version": "3.6.9"
  }
 },
 "nbformat": 4,
 "nbformat_minor": 4
}
